{
 "cells": [
  {
   "cell_type": "code",
   "execution_count": 35,
   "metadata": {},
   "outputs": [],
   "source": [
    "import streamlit as st\n",
    "import pandas as pd\n",
    "import plotly.express as px"
   ]
  },
  {
   "cell_type": "code",
   "execution_count": 36,
   "metadata": {},
   "outputs": [
    {
     "data": {
      "text/html": [
       "<div>\n",
       "<style scoped>\n",
       "    .dataframe tbody tr th:only-of-type {\n",
       "        vertical-align: middle;\n",
       "    }\n",
       "\n",
       "    .dataframe tbody tr th {\n",
       "        vertical-align: top;\n",
       "    }\n",
       "\n",
       "    .dataframe thead th {\n",
       "        text-align: right;\n",
       "    }\n",
       "</style>\n",
       "<table border=\"1\" class=\"dataframe\">\n",
       "  <thead>\n",
       "    <tr style=\"text-align: right;\">\n",
       "      <th></th>\n",
       "      <th>Unnamed: 0</th>\n",
       "      <th>Invoice ID</th>\n",
       "      <th>Branch</th>\n",
       "      <th>City</th>\n",
       "      <th>Customer type</th>\n",
       "      <th>Gender</th>\n",
       "      <th>Product line</th>\n",
       "      <th>Unit price</th>\n",
       "      <th>Quantity</th>\n",
       "      <th>Tax 5%</th>\n",
       "      <th>Total</th>\n",
       "      <th>Date</th>\n",
       "      <th>Time</th>\n",
       "      <th>Payment</th>\n",
       "      <th>cogs</th>\n",
       "      <th>gross margin percentage</th>\n",
       "      <th>gross income</th>\n",
       "      <th>Rating</th>\n",
       "    </tr>\n",
       "  </thead>\n",
       "  <tbody>\n",
       "    <tr>\n",
       "      <th>0</th>\n",
       "      <td>0</td>\n",
       "      <td>750-67-8428</td>\n",
       "      <td>A</td>\n",
       "      <td>Yangon</td>\n",
       "      <td>Member</td>\n",
       "      <td>Female</td>\n",
       "      <td>Health and beauty</td>\n",
       "      <td>74,69</td>\n",
       "      <td>7</td>\n",
       "      <td>26,1415</td>\n",
       "      <td>548,9715</td>\n",
       "      <td>1/5/2019</td>\n",
       "      <td>13:08</td>\n",
       "      <td>Ewallet</td>\n",
       "      <td>522,83</td>\n",
       "      <td>4,761904762</td>\n",
       "      <td>26,1415</td>\n",
       "      <td>9,1</td>\n",
       "    </tr>\n",
       "    <tr>\n",
       "      <th>1</th>\n",
       "      <td>1</td>\n",
       "      <td>226-31-3081</td>\n",
       "      <td>C</td>\n",
       "      <td>Naypyitaw</td>\n",
       "      <td>Normal</td>\n",
       "      <td>Female</td>\n",
       "      <td>Electronic accessories</td>\n",
       "      <td>15,28</td>\n",
       "      <td>5</td>\n",
       "      <td>3,82</td>\n",
       "      <td>80,22</td>\n",
       "      <td>3/8/2019</td>\n",
       "      <td>10:29</td>\n",
       "      <td>Cash</td>\n",
       "      <td>76,4</td>\n",
       "      <td>4,761904762</td>\n",
       "      <td>3,82</td>\n",
       "      <td>9,6</td>\n",
       "    </tr>\n",
       "    <tr>\n",
       "      <th>2</th>\n",
       "      <td>2</td>\n",
       "      <td>631-41-3108</td>\n",
       "      <td>A</td>\n",
       "      <td>Yangon</td>\n",
       "      <td>Normal</td>\n",
       "      <td>Male</td>\n",
       "      <td>Home and lifestyle</td>\n",
       "      <td>46,33</td>\n",
       "      <td>7</td>\n",
       "      <td>16,2155</td>\n",
       "      <td>340,5255</td>\n",
       "      <td>3/3/2019</td>\n",
       "      <td>13:23</td>\n",
       "      <td>Credit card</td>\n",
       "      <td>324,31</td>\n",
       "      <td>4,761904762</td>\n",
       "      <td>16,2155</td>\n",
       "      <td>7,4</td>\n",
       "    </tr>\n",
       "    <tr>\n",
       "      <th>3</th>\n",
       "      <td>3</td>\n",
       "      <td>123-19-1176</td>\n",
       "      <td>A</td>\n",
       "      <td>Yangon</td>\n",
       "      <td>Member</td>\n",
       "      <td>Male</td>\n",
       "      <td>Health and beauty</td>\n",
       "      <td>58,22</td>\n",
       "      <td>8</td>\n",
       "      <td>23,288</td>\n",
       "      <td>489,048</td>\n",
       "      <td>1/27/2019</td>\n",
       "      <td>20:33</td>\n",
       "      <td>Ewallet</td>\n",
       "      <td>465,76</td>\n",
       "      <td>4,761904762</td>\n",
       "      <td>23,288</td>\n",
       "      <td>8,4</td>\n",
       "    </tr>\n",
       "    <tr>\n",
       "      <th>4</th>\n",
       "      <td>4</td>\n",
       "      <td>373-73-7910</td>\n",
       "      <td>A</td>\n",
       "      <td>Yangon</td>\n",
       "      <td>Normal</td>\n",
       "      <td>Male</td>\n",
       "      <td>Sports and travel</td>\n",
       "      <td>86,31</td>\n",
       "      <td>7</td>\n",
       "      <td>30,2085</td>\n",
       "      <td>634,3785</td>\n",
       "      <td>2/8/2019</td>\n",
       "      <td>10:37</td>\n",
       "      <td>Ewallet</td>\n",
       "      <td>604,17</td>\n",
       "      <td>4,761904762</td>\n",
       "      <td>30,2085</td>\n",
       "      <td>5,3</td>\n",
       "    </tr>\n",
       "  </tbody>\n",
       "</table>\n",
       "</div>"
      ],
      "text/plain": [
       "   Unnamed: 0   Invoice ID Branch       City Customer type  Gender  \\\n",
       "0           0  750-67-8428      A     Yangon        Member  Female   \n",
       "1           1  226-31-3081      C  Naypyitaw        Normal  Female   \n",
       "2           2  631-41-3108      A     Yangon        Normal    Male   \n",
       "3           3  123-19-1176      A     Yangon        Member    Male   \n",
       "4           4  373-73-7910      A     Yangon        Normal    Male   \n",
       "\n",
       "             Product line Unit price  Quantity   Tax 5%     Total       Date  \\\n",
       "0       Health and beauty      74,69         7  26,1415  548,9715   1/5/2019   \n",
       "1  Electronic accessories      15,28         5     3,82     80,22   3/8/2019   \n",
       "2      Home and lifestyle      46,33         7  16,2155  340,5255   3/3/2019   \n",
       "3       Health and beauty      58,22         8   23,288   489,048  1/27/2019   \n",
       "4       Sports and travel      86,31         7  30,2085  634,3785   2/8/2019   \n",
       "\n",
       "    Time      Payment    cogs gross margin percentage gross income Rating  \n",
       "0  13:08      Ewallet  522,83             4,761904762      26,1415    9,1  \n",
       "1  10:29         Cash    76,4             4,761904762         3,82    9,6  \n",
       "2  13:23  Credit card  324,31             4,761904762      16,2155    7,4  \n",
       "3  20:33      Ewallet  465,76             4,761904762       23,288    8,4  \n",
       "4  10:37      Ewallet  604,17             4,761904762      30,2085    5,3  "
      ]
     },
     "execution_count": 36,
     "metadata": {},
     "output_type": "execute_result"
    }
   ],
   "source": [
    "dados = pd.read_csv(\"supermarket_sales.csv\", sep=\";\")\n",
    "dados.head()"
   ]
  },
  {
   "cell_type": "code",
   "execution_count": 37,
   "metadata": {},
   "outputs": [
    {
     "data": {
      "text/plain": [
       "0       1/5/2019\n",
       "1       3/8/2019\n",
       "2       3/3/2019\n",
       "3      1/27/2019\n",
       "4       2/8/2019\n",
       "         ...    \n",
       "995    1/29/2019\n",
       "996     3/2/2019\n",
       "997     2/9/2019\n",
       "998    2/22/2019\n",
       "999    2/18/2019\n",
       "Name: Date, Length: 1000, dtype: object"
      ]
     },
     "execution_count": 37,
     "metadata": {},
     "output_type": "execute_result"
    }
   ],
   "source": [
    "dados[\"Date\"]"
   ]
  },
  {
   "cell_type": "code",
   "execution_count": 38,
   "metadata": {},
   "outputs": [
    {
     "data": {
      "text/plain": [
       "0     2019-01-05\n",
       "1     2019-03-08\n",
       "2     2019-03-03\n",
       "3     2019-01-27\n",
       "4     2019-02-08\n",
       "         ...    \n",
       "995   2019-01-29\n",
       "996   2019-03-02\n",
       "997   2019-02-09\n",
       "998   2019-02-22\n",
       "999   2019-02-18\n",
       "Name: Date, Length: 1000, dtype: datetime64[ns]"
      ]
     },
     "execution_count": 38,
     "metadata": {},
     "output_type": "execute_result"
    }
   ],
   "source": [
    "dados[\"Date\"] = pd.to_datetime(dados[\"Date\"])\n",
    "dados[\"Date\"]"
   ]
  },
  {
   "cell_type": "code",
   "execution_count": 39,
   "metadata": {},
   "outputs": [
    {
     "data": {
      "text/plain": [
       "856   2019-01-01\n",
       "567   2019-01-01\n",
       "245   2019-01-01\n",
       "696   2019-01-01\n",
       "523   2019-01-01\n",
       "         ...    \n",
       "158   2019-03-30\n",
       "881   2019-03-30\n",
       "963   2019-03-30\n",
       "937   2019-03-30\n",
       "474   2019-03-30\n",
       "Name: Date, Length: 1000, dtype: datetime64[ns]"
      ]
     },
     "execution_count": 39,
     "metadata": {},
     "output_type": "execute_result"
    }
   ],
   "source": [
    "dados = dados.sort_values(\"Date\")\n",
    "dados[\"Date\"]"
   ]
  },
  {
   "cell_type": "code",
   "execution_count": 40,
   "metadata": {},
   "outputs": [
    {
     "data": {
      "text/plain": [
       "856    2019-01\n",
       "567    2019-01\n",
       "245    2019-01\n",
       "696    2019-01\n",
       "523    2019-01\n",
       "        ...   \n",
       "158    2019-03\n",
       "881    2019-03\n",
       "963    2019-03\n",
       "937    2019-03\n",
       "474    2019-03\n",
       "Name: Month, Length: 1000, dtype: object"
      ]
     },
     "execution_count": 40,
     "metadata": {},
     "output_type": "execute_result"
    }
   ],
   "source": [
    "dados[\"Month\"] = dados[\"Date\"].dt.strftime('%Y-%m')\n",
    "dados[\"Month\"]"
   ]
  },
  {
   "cell_type": "code",
   "execution_count": 41,
   "metadata": {},
   "outputs": [
    {
     "data": {
      "text/plain": [
       "'2019-01'"
      ]
     },
     "execution_count": 41,
     "metadata": {},
     "output_type": "execute_result"
    }
   ],
   "source": [
    "month = st.sidebar.selectbox(\"Mês\", dados[\"Month\"].unique())\n",
    "month"
   ]
  },
  {
   "cell_type": "code",
   "execution_count": 42,
   "metadata": {},
   "outputs": [
    {
     "data": {
      "text/html": [
       "<div>\n",
       "<style scoped>\n",
       "    .dataframe tbody tr th:only-of-type {\n",
       "        vertical-align: middle;\n",
       "    }\n",
       "\n",
       "    .dataframe tbody tr th {\n",
       "        vertical-align: top;\n",
       "    }\n",
       "\n",
       "    .dataframe thead th {\n",
       "        text-align: right;\n",
       "    }\n",
       "</style>\n",
       "<table border=\"1\" class=\"dataframe\">\n",
       "  <thead>\n",
       "    <tr style=\"text-align: right;\">\n",
       "      <th></th>\n",
       "      <th>Unnamed: 0</th>\n",
       "      <th>Invoice ID</th>\n",
       "      <th>Branch</th>\n",
       "      <th>City</th>\n",
       "      <th>Customer type</th>\n",
       "      <th>Gender</th>\n",
       "      <th>Product line</th>\n",
       "      <th>Unit price</th>\n",
       "      <th>Quantity</th>\n",
       "      <th>Tax 5%</th>\n",
       "      <th>Total</th>\n",
       "      <th>Date</th>\n",
       "      <th>Time</th>\n",
       "      <th>Payment</th>\n",
       "      <th>cogs</th>\n",
       "      <th>gross margin percentage</th>\n",
       "      <th>gross income</th>\n",
       "      <th>Rating</th>\n",
       "      <th>Month</th>\n",
       "    </tr>\n",
       "  </thead>\n",
       "  <tbody>\n",
       "    <tr>\n",
       "      <th>856</th>\n",
       "      <td>856</td>\n",
       "      <td>770-42-8960</td>\n",
       "      <td>B</td>\n",
       "      <td>Mandalay</td>\n",
       "      <td>Normal</td>\n",
       "      <td>Male</td>\n",
       "      <td>Food and beverages</td>\n",
       "      <td>21,12</td>\n",
       "      <td>8</td>\n",
       "      <td>8,448</td>\n",
       "      <td>177,408</td>\n",
       "      <td>2019-01-01</td>\n",
       "      <td>19:31</td>\n",
       "      <td>Cash</td>\n",
       "      <td>168,96</td>\n",
       "      <td>4,761904762</td>\n",
       "      <td>8,448</td>\n",
       "      <td>6,3</td>\n",
       "      <td>2019-01</td>\n",
       "    </tr>\n",
       "    <tr>\n",
       "      <th>567</th>\n",
       "      <td>567</td>\n",
       "      <td>651-88-7328</td>\n",
       "      <td>A</td>\n",
       "      <td>Yangon</td>\n",
       "      <td>Normal</td>\n",
       "      <td>Female</td>\n",
       "      <td>Fashion accessories</td>\n",
       "      <td>65,74</td>\n",
       "      <td>9</td>\n",
       "      <td>29,583</td>\n",
       "      <td>621,243</td>\n",
       "      <td>2019-01-01</td>\n",
       "      <td>13:55</td>\n",
       "      <td>Cash</td>\n",
       "      <td>591,66</td>\n",
       "      <td>4,761904762</td>\n",
       "      <td>29,583</td>\n",
       "      <td>7,7</td>\n",
       "      <td>2019-01</td>\n",
       "    </tr>\n",
       "    <tr>\n",
       "      <th>245</th>\n",
       "      <td>245</td>\n",
       "      <td>530-90-9855</td>\n",
       "      <td>A</td>\n",
       "      <td>Yangon</td>\n",
       "      <td>Member</td>\n",
       "      <td>Male</td>\n",
       "      <td>Home and lifestyle</td>\n",
       "      <td>47,59</td>\n",
       "      <td>8</td>\n",
       "      <td>19,036</td>\n",
       "      <td>399,756</td>\n",
       "      <td>2019-01-01</td>\n",
       "      <td>14:47</td>\n",
       "      <td>Cash</td>\n",
       "      <td>380,72</td>\n",
       "      <td>4,761904762</td>\n",
       "      <td>19,036</td>\n",
       "      <td>5,7</td>\n",
       "      <td>2019-01</td>\n",
       "    </tr>\n",
       "    <tr>\n",
       "      <th>696</th>\n",
       "      <td>696</td>\n",
       "      <td>182-52-7000</td>\n",
       "      <td>A</td>\n",
       "      <td>Yangon</td>\n",
       "      <td>Member</td>\n",
       "      <td>Female</td>\n",
       "      <td>Sports and travel</td>\n",
       "      <td>27,04</td>\n",
       "      <td>4</td>\n",
       "      <td>5,408</td>\n",
       "      <td>113,568</td>\n",
       "      <td>2019-01-01</td>\n",
       "      <td>20:26</td>\n",
       "      <td>Ewallet</td>\n",
       "      <td>108,16</td>\n",
       "      <td>4,761904762</td>\n",
       "      <td>5,408</td>\n",
       "      <td>6,9</td>\n",
       "      <td>2019-01</td>\n",
       "    </tr>\n",
       "    <tr>\n",
       "      <th>523</th>\n",
       "      <td>523</td>\n",
       "      <td>133-14-7229</td>\n",
       "      <td>C</td>\n",
       "      <td>Naypyitaw</td>\n",
       "      <td>Normal</td>\n",
       "      <td>Male</td>\n",
       "      <td>Health and beauty</td>\n",
       "      <td>62,87</td>\n",
       "      <td>2</td>\n",
       "      <td>6,287</td>\n",
       "      <td>132,027</td>\n",
       "      <td>2019-01-01</td>\n",
       "      <td>11:43</td>\n",
       "      <td>Cash</td>\n",
       "      <td>125,74</td>\n",
       "      <td>4,761904762</td>\n",
       "      <td>6,287</td>\n",
       "      <td>5,0</td>\n",
       "      <td>2019-01</td>\n",
       "    </tr>\n",
       "  </tbody>\n",
       "</table>\n",
       "</div>"
      ],
      "text/plain": [
       "     Unnamed: 0   Invoice ID Branch       City Customer type  Gender  \\\n",
       "856         856  770-42-8960      B   Mandalay        Normal    Male   \n",
       "567         567  651-88-7328      A     Yangon        Normal  Female   \n",
       "245         245  530-90-9855      A     Yangon        Member    Male   \n",
       "696         696  182-52-7000      A     Yangon        Member  Female   \n",
       "523         523  133-14-7229      C  Naypyitaw        Normal    Male   \n",
       "\n",
       "            Product line Unit price  Quantity  Tax 5%    Total       Date  \\\n",
       "856   Food and beverages      21,12         8   8,448  177,408 2019-01-01   \n",
       "567  Fashion accessories      65,74         9  29,583  621,243 2019-01-01   \n",
       "245   Home and lifestyle      47,59         8  19,036  399,756 2019-01-01   \n",
       "696    Sports and travel      27,04         4   5,408  113,568 2019-01-01   \n",
       "523    Health and beauty      62,87         2   6,287  132,027 2019-01-01   \n",
       "\n",
       "      Time  Payment    cogs gross margin percentage gross income Rating  \\\n",
       "856  19:31     Cash  168,96             4,761904762        8,448    6,3   \n",
       "567  13:55     Cash  591,66             4,761904762       29,583    7,7   \n",
       "245  14:47     Cash  380,72             4,761904762       19,036    5,7   \n",
       "696  20:26  Ewallet  108,16             4,761904762        5,408    6,9   \n",
       "523  11:43     Cash  125,74             4,761904762        6,287    5,0   \n",
       "\n",
       "       Month  \n",
       "856  2019-01  \n",
       "567  2019-01  \n",
       "245  2019-01  \n",
       "696  2019-01  \n",
       "523  2019-01  "
      ]
     },
     "execution_count": 42,
     "metadata": {},
     "output_type": "execute_result"
    }
   ],
   "source": [
    "dados_filtered = dados[dados[\"Month\"] == month]\n",
    "dados_filtered.head()"
   ]
  },
  {
   "cell_type": "code",
   "execution_count": 43,
   "metadata": {},
   "outputs": [
    {
     "name": "stdout",
     "output_type": "stream",
     "text": [
      "DeltaGenerator() DeltaGenerator()\n",
      "DeltaGenerator() DeltaGenerator() DeltaGenerator()\n"
     ]
    }
   ],
   "source": [
    "col1, col2 = st.columns(2)\n",
    "col3, col4, col5 = st.columns(3)\n",
    "print(col1, col2)\n",
    "print(col3, col4, col5)"
   ]
  },
  {
   "cell_type": "code",
   "execution_count": 44,
   "metadata": {},
   "outputs": [
    {
     "data": {
      "text/plain": [
       "DeltaGenerator()"
      ]
     },
     "execution_count": 44,
     "metadata": {},
     "output_type": "execute_result"
    }
   ],
   "source": [
    "fig_date = px.bar(dados_filtered, x=\"Date\", y=\"Total\", color=\"City\", title=\"Faturamento por dia\")\n",
    "col1.plotly_chart(fig_date, use_container_width=True)"
   ]
  },
  {
   "cell_type": "code",
   "execution_count": 45,
   "metadata": {},
   "outputs": [
    {
     "data": {
      "text/plain": [
       "DeltaGenerator()"
      ]
     },
     "execution_count": 45,
     "metadata": {},
     "output_type": "execute_result"
    }
   ],
   "source": [
    "\n",
    "fig_prod = px.bar(dados_filtered, x=\"Date\", y=\"Product line\", \n",
    "                  color=\"City\", title=\"Faturamento por tipo de produto\",\n",
    "                  orientation=\"h\")\n",
    "col2.plotly_chart(fig_prod, use_container_width=True)"
   ]
  },
  {
   "cell_type": "code",
   "execution_count": 46,
   "metadata": {},
   "outputs": [
    {
     "data": {
      "text/plain": [
       "DeltaGenerator()"
      ]
     },
     "execution_count": 46,
     "metadata": {},
     "output_type": "execute_result"
    }
   ],
   "source": [
    "\n",
    "city_total = dados_filtered.groupby(\"City\")[[\"Total\"]].sum().reset_index()\n",
    "fig_city = px.bar(city_total, x=\"City\", y=\"Total\",\n",
    "                   title=\"Faturamento por filial\")\n",
    "col3.plotly_chart(fig_city, use_container_width=True)\n"
   ]
  },
  {
   "cell_type": "code",
   "execution_count": 47,
   "metadata": {},
   "outputs": [
    {
     "data": {
      "text/plain": [
       "DeltaGenerator()"
      ]
     },
     "execution_count": 47,
     "metadata": {},
     "output_type": "execute_result"
    }
   ],
   "source": [
    "fig_kind = px.pie(dados_filtered, values=\"Total\", names=\"Payment\",\n",
    "                   title=\"Faturamento por tipo de pagamento\")\n",
    "col4.plotly_chart(fig_kind, use_container_width=True)"
   ]
  }
 ],
 "metadata": {
  "kernelspec": {
   "display_name": "Python 3",
   "language": "python",
   "name": "python3"
  },
  "language_info": {
   "codemirror_mode": {
    "name": "ipython",
    "version": 3
   },
   "file_extension": ".py",
   "mimetype": "text/x-python",
   "name": "python",
   "nbconvert_exporter": "python",
   "pygments_lexer": "ipython3",
   "version": "3.11.3"
  }
 },
 "nbformat": 4,
 "nbformat_minor": 2
}
